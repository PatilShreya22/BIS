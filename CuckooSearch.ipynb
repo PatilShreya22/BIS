{
  "nbformat": 4,
  "nbformat_minor": 0,
  "metadata": {
    "colab": {
      "provenance": [],
      "authorship_tag": "ABX9TyOOjbVqx+6aiz0JsF//uKMF",
      "include_colab_link": true
    },
    "kernelspec": {
      "name": "python3",
      "display_name": "Python 3"
    },
    "language_info": {
      "name": "python"
    }
  },
  "cells": [
    {
      "cell_type": "markdown",
      "metadata": {
        "id": "view-in-github",
        "colab_type": "text"
      },
      "source": [
        "<a href=\"https://colab.research.google.com/github/PatilShreya22/BIS/blob/main/CuckooSearch.ipynb\" target=\"_parent\"><img src=\"https://colab.research.google.com/assets/colab-badge.svg\" alt=\"Open In Colab\"/></a>"
      ]
    },
    {
      "cell_type": "code",
      "execution_count": 2,
      "metadata": {
        "colab": {
          "base_uri": "https://localhost:8080/"
        },
        "id": "wTo9S3oLRRfJ",
        "outputId": "39c887ec-053e-4e79-dcc4-dcfeb7ede369"
      },
      "outputs": [
        {
          "output_type": "stream",
          "name": "stdout",
          "text": [
            "Iteration 100, Best Fitness: 21.833883098885757\n",
            "Iteration 200, Best Fitness: 19.928438067493847\n",
            "Iteration 300, Best Fitness: 13.112907884199378\n",
            "Iteration 400, Best Fitness: 6.6654288191119715\n",
            "Iteration 500, Best Fitness: 6.035051987863509\n",
            "Iteration 600, Best Fitness: 6.006308796225937\n",
            "Iteration 700, Best Fitness: 3.1108682941417123\n",
            "Iteration 800, Best Fitness: 3.1108682941417123\n",
            "Iteration 900, Best Fitness: 3.1108682941417123\n",
            "Iteration 1000, Best Fitness: 3.1108682941417123\n",
            "\n",
            "Best solution found:  [-0.18730326 -1.05724275  0.19541149 -0.35413962  0.46531538  0.20347219\n",
            " -0.29758192  0.99245964 -0.1838656   0.65510761]\n",
            "Best fitness value:  3.1108682941417123\n"
          ]
        }
      ],
      "source": [
        "import numpy as np\n",
        "import random\n",
        "from scipy.special import gamma  # Import gamma from scipy.special\n",
        "\n",
        "# Levy flight function\n",
        "def levy_flight(beta=1.5, d=1):\n",
        "    sigma_u = np.power((gamma(1 + beta) * np.sin(np.pi * beta / 2) / gamma((1 + beta) / 2) * beta *\n",
        "                        np.cos(np.pi * beta / 2) ** 2), 1 / beta)\n",
        "    u = np.random.normal(0, sigma_u, size=d)\n",
        "    v = np.random.normal(0, 1, size=d)\n",
        "    step = u / np.power(np.abs(v), 1 / beta)\n",
        "    return step\n",
        "\n",
        "# Initialize population (nests)\n",
        "def initialize_population(n_nests, n_dim, lower_bound, upper_bound):\n",
        "    return np.random.uniform(lower_bound, upper_bound, (n_nests, n_dim))\n",
        "\n",
        "# Fitness function (Example: Sphere function)\n",
        "def fitness_function(x):\n",
        "    return np.sum(x ** 2)\n",
        "\n",
        "# Cuckoo Search Algorithm\n",
        "def cuckoo_search(n_nests, n_dim, lower_bound, upper_bound, max_iter, pa=0.25):\n",
        "    # Step 1: Initialize nests randomly\n",
        "    nests = initialize_population(n_nests, n_dim, lower_bound, upper_bound)\n",
        "\n",
        "    # Step 2: Evaluate fitness of all nests\n",
        "    fitness = np.array([fitness_function(nest) for nest in nests])\n",
        "\n",
        "    # Track the best solution found so far\n",
        "    best_idx = np.argmin(fitness)\n",
        "    best_nest = nests[best_idx]\n",
        "    best_fitness = fitness[best_idx]\n",
        "\n",
        "    # Start iterations\n",
        "    for iteration in range(max_iter):\n",
        "        # Generate new solutions using Levy flight\n",
        "        for i in range(n_nests):\n",
        "            # Generate a new solution by Levy flight\n",
        "            step = levy_flight(d=n_dim)\n",
        "            new_nest = nests[i] + step * (nests[i] - best_nest)\n",
        "\n",
        "            # Apply boundary conditions\n",
        "            new_nest = np.clip(new_nest, lower_bound, upper_bound)\n",
        "\n",
        "            # Evaluate the new solution\n",
        "            new_fitness = fitness_function(new_nest)\n",
        "\n",
        "            # If the new solution is better, replace the old nest\n",
        "            if new_fitness < fitness[i]:\n",
        "                nests[i] = new_nest\n",
        "                fitness[i] = new_fitness\n",
        "\n",
        "                # Update the best solution if necessary\n",
        "                if new_fitness < best_fitness:\n",
        "                    best_nest = new_nest\n",
        "                    best_fitness = new_fitness\n",
        "\n",
        "        # Abandon some of the worst nests and generate new random solutions\n",
        "        for i in range(n_nests):\n",
        "            if random.random() < pa:  # with probability pa\n",
        "                nests[i] = np.random.uniform(lower_bound, upper_bound, n_dim)\n",
        "                fitness[i] = fitness_function(nests[i])\n",
        "\n",
        "        # Print progress every 100 iterations\n",
        "        if (iteration + 1) % 100 == 0 or iteration == max_iter - 1:\n",
        "            print(f\"Iteration {iteration + 1}, Best Fitness: {best_fitness}\")\n",
        "\n",
        "    return best_nest, best_fitness\n",
        "\n",
        "# Parameters\n",
        "n_nests = 25  # Number of nests\n",
        "n_dim = 10  # Dimensionality of the problem\n",
        "lower_bound = -5  # Lower bound for the search space\n",
        "upper_bound = 5  # Upper bound for the search space\n",
        "max_iter = 1000  # Maximum number of iterations\n",
        "pa = 0.25  # Probability of abandoning the worst nests\n",
        "\n",
        "# Run Cuckoo Search\n",
        "best_solution, best_solution_fitness = cuckoo_search(n_nests, n_dim, lower_bound, upper_bound, max_iter, pa)\n",
        "\n",
        "print(\"\\nBest solution found: \", best_solution)\n",
        "print(\"Best fitness value: \", best_solution_fitness)\n"
      ]
    }
  ]
}