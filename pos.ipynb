{
  "nbformat": 4,
  "nbformat_minor": 0,
  "metadata": {
    "colab": {
      "provenance": [],
      "authorship_tag": "ABX9TyPUKQf5iML0fTTa41YcbHuF",
      "include_colab_link": true
    },
    "kernelspec": {
      "name": "python3",
      "display_name": "Python 3"
    },
    "language_info": {
      "name": "python"
    }
  },
  "cells": [
    {
      "cell_type": "markdown",
      "metadata": {
        "id": "view-in-github",
        "colab_type": "text"
      },
      "source": [
        "<a href=\"https://colab.research.google.com/github/PatilShreya22/BIS/blob/main/pos.ipynb\" target=\"_parent\"><img src=\"https://colab.research.google.com/assets/colab-badge.svg\" alt=\"Open In Colab\"/></a>"
      ]
    },
    {
      "cell_type": "code",
      "execution_count": 1,
      "metadata": {
        "colab": {
          "base_uri": "https://localhost:8080/"
        },
        "id": "s-8pSGnxMWOW",
        "outputId": "2f663173-9e21-47b6-a348-ee4575abf578"
      },
      "outputs": [
        {
          "output_type": "stream",
          "name": "stdout",
          "text": [
            "Best Position: [ 3.76583492e-08 -2.28754370e-07]\n",
            "Best Value: 1.0665246463759104e-11\n"
          ]
        }
      ],
      "source": [
        "import numpy as np\n",
        "\n",
        "# Define the Rastrigin function\n",
        "def rastrigin_function(x):\n",
        "    A = 10\n",
        "    return A * len(x) + sum(x_i**2 - A * np.cos(2 * np.pi * x_i) for x_i in x)\n",
        "\n",
        "# Particle Swarm Optimization Algorithm\n",
        "class Particle:\n",
        "    def __init__(self, dim):\n",
        "        self.position = np.random.uniform(-5.12, 5.12, dim)  # Random position\n",
        "        self.velocity = np.random.uniform(-1, 1, dim)  # Random velocity\n",
        "        self.best_position = np.copy(self.position)  # Personal best position\n",
        "        self.best_value = rastrigin_function(self.position)  # Personal best value\n",
        "\n",
        "class PSO:\n",
        "    def __init__(self, num_particles, dim, inertia_weight, cognitive_coeff, social_coeff, max_iter):\n",
        "        self.num_particles = num_particles\n",
        "        self.dim = dim\n",
        "        self.inertia_weight = inertia_weight\n",
        "        self.cognitive_coeff = cognitive_coeff\n",
        "        self.social_coeff = social_coeff\n",
        "        self.max_iter = max_iter\n",
        "        self.swarm = [Particle(dim) for _ in range(num_particles)]\n",
        "        self.global_best_position = self.swarm[0].best_position\n",
        "        self.global_best_value = self.swarm[0].best_value\n",
        "\n",
        "    def optimize(self):\n",
        "        for iteration in range(self.max_iter):\n",
        "            for particle in self.swarm:\n",
        "                # Evaluate fitness\n",
        "                fitness_value = rastrigin_function(particle.position)\n",
        "\n",
        "                # Update personal best\n",
        "                if fitness_value < particle.best_value:\n",
        "                    particle.best_value = fitness_value\n",
        "                    particle.best_position = np.copy(particle.position)\n",
        "\n",
        "                # Update global best\n",
        "                if fitness_value < self.global_best_value:\n",
        "                    self.global_best_value = fitness_value\n",
        "                    self.global_best_position = np.copy(particle.best_position)\n",
        "\n",
        "            # Update velocities and positions\n",
        "            for particle in self.swarm:\n",
        "                r1 = np.random.rand(self.dim)\n",
        "                r2 = np.random.rand(self.dim)\n",
        "\n",
        "                # Update velocity\n",
        "                particle.velocity = (self.inertia_weight * particle.velocity +\n",
        "                                     self.cognitive_coeff * r1 * (particle.best_position - particle.position) +\n",
        "                                     self.social_coeff * r2 * (self.global_best_position - particle.position))\n",
        "\n",
        "                # Update position\n",
        "                particle.position += particle.velocity\n",
        "\n",
        "        return self.global_best_position, self.global_best_value\n",
        "\n",
        "# Parameters\n",
        "num_particles = 30  # Number of particles\n",
        "dim = 2  # Dimensionality of the problem\n",
        "inertia_weight = 0.7  # Inertia weight\n",
        "cognitive_coeff = 1.5  # Cognitive coefficient\n",
        "social_coeff = 1.5  # Social coefficient\n",
        "max_iter = 100  # Maximum number of iterations\n",
        "\n",
        "# Run PSO\n",
        "pso = PSO(num_particles, dim, inertia_weight, cognitive_coeff, social_coeff, max_iter)\n",
        "best_position, best_value = pso.optimize()\n",
        "\n",
        "print(\"Best Position:\", best_position)\n",
        "print(\"Best Value:\", best_value)"
      ]
    }
  ]
}